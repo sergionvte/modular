{
 "cells": [
  {
   "cell_type": "code",
   "execution_count": 2,
   "id": "a7e80fc4-5802-43a5-b97d-c0113ee4c216",
   "metadata": {},
   "outputs": [],
   "source": [
    "from imdb import Cinemagoer\n",
    "from tmdbv3api import TMDb, Movie\n",
    "import pandas as pd\n",
    "ia = Cinemagoer()\n",
    "tmdb = TMDb()\n",
    "tmdb.api_key = 'dbd70c85a04ba58e877e159451bcf41f'\n",
    "tmdb_movie = Movie()"
   ]
  },
  {
   "cell_type": "code",
   "execution_count": 71,
   "id": "6fee7b56-a18c-49bd-a921-74b998251d0c",
   "metadata": {},
   "outputs": [],
   "source": [
    "liked_movies = [\n",
    "    'Sonic 2',\n",
    "    'Dune: Part Two',\n",
    "    'Kung Fu Panda 4',\n",
    "    'Godzilla x Kong: The New Empire',\n",
    "    'Civil War',\n",
    "    'Carmen 1945'\n",
    "]\n",
    "liked_ids = []\n",
    "genres = []"
   ]
  },
  {
   "cell_type": "code",
   "execution_count": 72,
   "id": "ac916115-e7b6-49ab-a839-8eda1598b7e3",
   "metadata": {},
   "outputs": [
    {
     "name": "stdout",
     "output_type": "stream",
     "text": [
      "Sonic the Hedgehog 2\n",
      "Dune: Part Two\n",
      "Kung Fu Panda 4\n",
      "Godzilla x Kong: The New Empire\n",
      "Civil War\n",
      "Carmen 1945\n"
     ]
    }
   ],
   "source": [
    "for x in liked_movies:\n",
    "    id = ia.search_movie(x)[0].movieID\n",
    "    print(ia.get_movie(id))\n",
    "    liked_ids.append(id)\n",
    "    genres += ia.get_movie(id)['genres']"
   ]
  },
  {
   "cell_type": "code",
   "execution_count": 61,
   "id": "ee6608b0-d31d-41c0-8147-c5e2a3319eec",
   "metadata": {},
   "outputs": [
    {
     "data": {
      "text/plain": [
       "{'Action',\n",
       " 'Adventure',\n",
       " 'Animation',\n",
       " 'Comedy',\n",
       " 'Crime',\n",
       " 'Drama',\n",
       " 'Family',\n",
       " 'Fantasy',\n",
       " 'Sci-Fi',\n",
       " 'Thriller'}"
      ]
     },
     "execution_count": 61,
     "metadata": {},
     "output_type": "execute_result"
    }
   ],
   "source": [
    "#liked_ids\n",
    "set(genres)"
   ]
  },
  {
   "cell_type": "code",
   "execution_count": 68,
   "id": "416a1ea7-c331-45a3-aeec-2f1d34afa821",
   "metadata": {},
   "outputs": [
    {
     "data": {
      "text/plain": [
       "<Movie id:12412888[http] title:_Sonic the Hedgehog 2 (2022)_>"
      ]
     },
     "execution_count": 68,
     "metadata": {},
     "output_type": "execute_result"
    }
   ],
   "source": [
    "ia.get_movie('12412888')"
   ]
  },
  {
   "cell_type": "code",
   "execution_count": null,
   "id": "dc486aee-8238-48c5-b5c8-2d0bdd182cdc",
   "metadata": {},
   "outputs": [],
   "source": []
  }
 ],
 "metadata": {
  "kernelspec": {
   "display_name": "Python 3 (ipykernel)",
   "language": "python",
   "name": "python3"
  },
  "language_info": {
   "codemirror_mode": {
    "name": "ipython",
    "version": 3
   },
   "file_extension": ".py",
   "mimetype": "text/x-python",
   "name": "python",
   "nbconvert_exporter": "python",
   "pygments_lexer": "ipython3",
   "version": "3.11.7"
  }
 },
 "nbformat": 4,
 "nbformat_minor": 5
}
